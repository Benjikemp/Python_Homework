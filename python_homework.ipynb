{
 "cells": [
  {
   "cell_type": "code",
   "execution_count": 25,
   "id": "ae4a95c3",
   "metadata": {},
   "outputs": [
    {
     "name": "stdout",
     "output_type": "stream",
     "text": [
      "usage: install [-bCcpSsv] [-B suffix] [-f flags] [-g group] [-m mode]\n",
      "               [-o owner] file1 file2\n",
      "       install [-bCcpSsv] [-B suffix] [-f flags] [-g group] [-m mode]\n",
      "               [-o owner] file1 ... fileN directory\n",
      "       install -d [-v] [-g group] [-m mode] [-o owner] directory ...\n",
      "float_3 is equall to:\n",
      " 0\n",
      "string_3 is equal to:\n",
      " str1str2\n",
      "bool_3 is equal to:\n",
      " 1\n",
      "list_3 equals:\n",
      " ['d', 'd', 'd', 'd', 'd', 'd']\n",
      "dict three equals \n",
      " ChainMap({'d': 1, 'f': 2}, {'g': 4, 'v': 5})\n",
      "data frame 3 is \n",
      "         0\n",
      "0   Geeks\n",
      "1     For\n",
      "2   Geeks\n",
      "3      is\n",
      "4  portal\n",
      "5     for\n",
      "6   Geeks\n",
      "0   Geeks\n",
      "1     For\n",
      "2   Geeks\n",
      "3      is\n",
      "4  portal\n",
      "5     for\n",
      "6   Geeks\n"
     ]
    }
   ],
   "source": [
    "## Question 1\n",
    "!install collections\n",
    "from collections import ChainMap\n",
    "import pandas as pd\n",
    "from collections import deque\n",
    "\n",
    "float_1=0;\n",
    "float_2=0;\n",
    "float_3=float_2+float_1\n",
    "\n",
    "print(\"float_3 is equall to:\\n\",float_3)\n",
    "\n",
    "\n",
    "string_1=\"str1\"\n",
    "string_2=\"str2\"\n",
    "\n",
    "string_3= string_1+string_2\n",
    "\n",
    "print(\"string_3 is equal to:\\n\",string_3)\n",
    "\n",
    "\n",
    "bool_1= False\n",
    "bool_2= True\n",
    "\n",
    "bool_3= bool_1+bool_2\n",
    "\n",
    "print(\"bool_3 is equal to:\\n\",bool_3)\n",
    "\n",
    "list_1=['d','d','d']\n",
    "list_2=['d','d','d']\n",
    "list_3=list_1+list_2\n",
    "\n",
    "print(\"list_3 equals:\\n\",list_3)\n",
    "\n",
    "def Merge(dict_1,dict_2):\n",
    "    result=dict_1 | dict_2\n",
    "    return result\n",
    "    \n",
    "dict_1={\"d\":1,\"f\":2}\n",
    "dict_2={\"g\":4,\"v\":5}\n",
    "\n",
    "\n",
    "\n",
    "\n",
    "dict_3=ChainMap(dict_1, dict_2)\n",
    "\n",
    "print(\"dict three equals \\n\",dict_3)\n",
    "\n",
    "num=0\n",
    "\n",
    "lst1 = ['Geeks', 'For', 'Geeks', 'is', \n",
    "            'portal', 'for', 'Geeks']\n",
    "\n",
    "lst2 = ['Geeks', 'For', 'Geeks', 'is', \n",
    "            'portal', 'for', 'Geeks']\n",
    "df1 = pd.DataFrame(lst1)\n",
    "df2 = pd.DataFrame(lst2)\n",
    "\n",
    "df3=pd.concat([df1, df2])\n",
    "\n",
    "print(\"data frame 3 is \\n\",df3)\n",
    "\n",
    "\n",
    "\n",
    "\n",
    "\n"
   ]
  },
  {
   "cell_type": "code",
   "execution_count": 42,
   "id": "7f8908c7",
   "metadata": {},
   "outputs": [
    {
     "name": "stdout",
     "output_type": "stream",
     "text": [
      "[1, 2, 3, 4, 5, 6, 7]\n"
     ]
    }
   ],
   "source": [
    "#Question 2.1\n",
    "list_1 = [1,2,3,4,1,2,3,4,2,2,5,5,6,6,7,7]\n",
    "\n",
    "list_2=[]\n",
    "\n",
    "for x in list_1:\n",
    "    if x not in list_2:\n",
    "        list_2.append(x)\n",
    "\n",
    "print(list_2)\n",
    "        \n",
    "    \n",
    "    "
   ]
  },
  {
   "cell_type": "code",
   "execution_count": 36,
   "id": "bdb3b593",
   "metadata": {},
   "outputs": [
    {
     "ename": "IndentationError",
     "evalue": "expected an indented block after 'if' statement on line 5 (3019926884.py, line 6)",
     "output_type": "error",
     "traceback": [
      "\u001b[0;36m  Input \u001b[0;32mIn [36]\u001b[0;36m\u001b[0m\n\u001b[0;31m    list_2.append(x)\u001b[0m\n\u001b[0m    ^\u001b[0m\n\u001b[0;31mIndentationError\u001b[0m\u001b[0;31m:\u001b[0m expected an indented block after 'if' statement on line 5\n"
     ]
    }
   ],
   "source": [
    "#Question 2.2\n",
    "def clean_list(list_1):\n",
    "    list_2=[]\n",
    "    for x in list_1:\n",
    "        if x not in list_2:\n",
    "        list_2.append(x)\n",
    "    print(list_2)\n",
    "list_1 = [1,2,3,4,1,2,3,4,2,2,5,5,6,6,7,7]\n",
    "\n",
    "list_3=clean_list(list_1)\n",
    "\n",
    "\n",
    "\n"
   ]
  },
  {
   "cell_type": "code",
   "execution_count": 6,
   "id": "d3188c8f",
   "metadata": {},
   "outputs": [
    {
     "name": "stdout",
     "output_type": "stream",
     "text": [
      "please provide your name\n",
      "2\n",
      "please provide your age\n",
      "3\n"
     ]
    },
    {
     "data": {
      "text/plain": [
       "('your name is:', '2', 'your age is', '3')"
      ]
     },
     "execution_count": 6,
     "metadata": {},
     "output_type": "execute_result"
    }
   ],
   "source": [
    "## Question 3\n",
    "\n",
    "def print_name_age(name, age):\n",
    "    # print value\n",
    "    print(\"please provide your name\")\n",
    "    name=input()\n",
    "    print(\"please provide your age\")\n",
    "    age=input()\n",
    "    return(\"your name is:\", name,\"your age is\", age)\n",
    "\n",
    "# call function\n",
    "name = \"\"\n",
    "age = 0\n",
    "print_name_age(name, age)\n",
    "\n"
   ]
  },
  {
   "cell_type": "code",
   "execution_count": 17,
   "id": "035a6870",
   "metadata": {},
   "outputs": [
    {
     "name": "stdout",
     "output_type": "stream",
     "text": [
      "input list position\n",
      "6\n",
      "An error occured as the list is of length: 3 the value of the last position in the list is 3\n"
     ]
    }
   ],
   "source": [
    "##Question 4\n",
    "\n",
    "print(\"input list position\")\n",
    "x=int(input())\n",
    "list_ = [1,2,3]\n",
    "\n",
    "try:\n",
    "    print(\"the value of this position is\",list_[x])\n",
    "\n",
    "except:\n",
    "    print(\"An error occured as the list is of length:\",len(list_),\"the value of the last position in the list is\", list_[len(list_)-1])\n",
    "\n",
    "\n"
   ]
  },
  {
   "cell_type": "code",
   "execution_count": 25,
   "id": "9c5ec4b4",
   "metadata": {},
   "outputs": [
    {
     "name": "stdout",
     "output_type": "stream",
     "text": [
      "please input you IP adress\n",
      "2.2.2.22.\n",
      "defanged_adress: ['2', '[.]', '2', '[.]', '2', '[.]', '2', '2', '[.]']\n"
     ]
    }
   ],
   "source": [
    "##Leet code question 2: IP adress problem\n",
    "\n",
    "##Given a valid (IPv4) IP address, return a defanged version of that IP address.\n",
    "\n",
    "##A defanged IP address replaces every period \".\" with \"[.]\".\n",
    "\n",
    "\n",
    "def defangIPaddr(IP):\n",
    "    print(\"please input you IP adress\")\n",
    "    IP=input()\n",
    "    defanged_adress=[]\n",
    "    for value in IP:\n",
    "        if value == \".\":\n",
    "            defanged_adress.append(\"[.]\")\n",
    "        else:\n",
    "            defanged_adress.append(value)\n",
    "\n",
    "    print(\"defanged_adress:\",defanged_adress)\n",
    "\n",
    "IP=\"\"\n",
    "defangIPaddr(IP)\n",
    "\n"
   ]
  },
  {
   "cell_type": "code",
   "execution_count": 36,
   "id": "22cbdbb5",
   "metadata": {},
   "outputs": [
    {
     "name": "stdout",
     "output_type": "stream",
     "text": [
      "The max value in an account is: 6\n"
     ]
    }
   ],
   "source": [
    "##LEET code question 4:Richest customer wealth\n",
    "\n",
    "\n",
    "wealth=[[1,2,3],[1,2,2]]\n",
    "\n",
    "df=pd.DataFrame(wealth)\n",
    "\n",
    "x=df.sum(axis = 1)  \n",
    "max_value=x.max()   \n",
    "\n",
    "print(\"The max value in an account is:\", max_value)\n",
    "\n",
    "\n"
   ]
  },
  {
   "cell_type": "code",
   "execution_count": 14,
   "id": "ce93ed51",
   "metadata": {
    "scrolled": true
   },
   "outputs": [
    {
     "data": {
      "text/plain": [
       "[1, 3, 6, 10]"
      ]
     },
     "execution_count": 14,
     "metadata": {},
     "output_type": "execute_result"
    }
   ],
   "source": [
    "##LEET code question 1: 1D array\n",
    "\n",
    "\n",
    "def runningSum(nums):\n",
    "\n",
    "    for i in range(1,len(nums)):\n",
    "    \n",
    "        nums[i]+=nums[i-1]\n",
    "    return nums\n",
    " \n",
    "nums = [1,2,3,4] \n",
    "\n",
    "runningSum(nums)\n",
    "    "
   ]
  },
  {
   "cell_type": "code",
   "execution_count": 4,
   "id": "4278f364",
   "metadata": {
    "scrolled": false
   },
   "outputs": [
    {
     "data": {
      "text/plain": [
       "20"
      ]
     },
     "execution_count": 4,
     "metadata": {},
     "output_type": "execute_result"
    }
   ],
   "source": [
    "## Question 5: longest sentence\n",
    "\n",
    "\n",
    "def longest_sentence (sentences):\n",
    "    \n",
    "    sentence=[]\n",
    "    result=0\n",
    "\n",
    "    for sentence in sentences:\n",
    "        word_count = 0\n",
    "        sentence=sentence.strip()\n",
    "        sentence = sentence.split(' ')\n",
    "        for word in sentence:                \n",
    "            word_count += 1\n",
    "            if word_count > result:\n",
    "                result = word_count\n",
    "    return(result)\n",
    "  \n",
    "sentences=[\"iwjiii ss\",\"ss s s s s\",\"s s  ss  s s s ss s s  s s ss s  s s s \"]\n",
    "\n",
    "\n",
    "\n",
    "longest_sentence(sentences)\n",
    "\n"
   ]
  },
  {
   "cell_type": "code",
   "execution_count": 21,
   "id": "0623475b",
   "metadata": {},
   "outputs": [
    {
     "name": "stdout",
     "output_type": "stream",
     "text": [
      "HHHgggggggg\n"
     ]
    },
    {
     "data": {
      "text/plain": [
       "'hhhgggggggg'"
      ]
     },
     "execution_count": 21,
     "metadata": {},
     "output_type": "execute_result"
    }
   ],
   "source": [
    "##Leet code question 8: to lower case\n",
    "\n",
    "def to_lower (str_val):\n",
    "    new_str_val=[]\n",
    "    for letter in str_val:\n",
    "        new_str_val.append(letter.lower())\n",
    "\n",
    "    new_str_val=' '.join(new_str_val)\n",
    "    \n",
    "    new_str_val=new_str_val.replace(\" \",\"\")\n",
    "    return new_str_val\n",
    "\n",
    "str_val=input()\n",
    "\n",
    "to_lower(str_val)\n",
    "        \n",
    "        "
   ]
  },
  {
   "cell_type": "code",
   "execution_count": 8,
   "id": "8b56b820",
   "metadata": {},
   "outputs": [
    {
     "name": "stdout",
     "output_type": "stream",
     "text": [
      "['c', 'b', 's']\n"
     ]
    }
   ],
   "source": [
    "##leet code question 8: sort the people\n",
    "\n",
    "\n",
    "heights=[10,22,33]\n",
    "names=[\"s\",\"b\",\"c\"]\n",
    "c_val=0\n",
    "new_list=[]\n",
    "i=0\n",
    "\n",
    "for val in heights:\n",
    "    i+=+1\n",
    "    if val>=c_val:\n",
    "        c_val=val\n",
    "        new_list.insert(0,names[i-1])\n",
    "        \n",
    "        \n",
    "    \n",
    "print(new_list)\n",
    "\n",
    "\n",
    "    "
   ]
  },
  {
   "cell_type": "code",
   "execution_count": 17,
   "id": "abac3243",
   "metadata": {},
   "outputs": [
    {
     "data": {
      "text/plain": [
       "5"
      ]
     },
     "execution_count": 17,
     "metadata": {},
     "output_type": "execute_result"
    }
   ],
   "source": [
    "## Leet Code Jewels in stones\n",
    "\n",
    "def jewels_in_stones(jewels,stones):\n",
    "    jewels_in_stones=0\n",
    "    for n in stones:\n",
    "         if n in jewels:\n",
    "            jewels_in_stones+=+1\n",
    "    return jewels_in_stones\n",
    "\n",
    "jewels=\"aA\"\n",
    "stones=\"aaaAAbbb\"\n",
    "\n",
    "jewels_in_stones(jewels,stones)\n"
   ]
  },
  {
   "cell_type": "code",
   "execution_count": null,
   "id": "0ee50f9f",
   "metadata": {},
   "outputs": [],
   "source": [
    "## Leet code question: smallest even multiple \n",
    "\n",
    "x=2\n",
    "num=int(input())\n",
    "\n",
    "for n in range(1000000000):\n",
    "    \n",
    "    if n!=0 and n%x==0 and n%num==0:\n",
    "        \n",
    "        print(n)\n",
    "        break\n",
    "    \n",
    "\n",
    " \n",
    "\n",
    "\n"
   ]
  },
  {
   "cell_type": "code",
   "execution_count": null,
   "id": "583af7d7",
   "metadata": {},
   "outputs": [],
   "source": []
  }
 ],
 "metadata": {
  "kernelspec": {
   "display_name": "Python 3 (ipykernel)",
   "language": "python",
   "name": "python3"
  },
  "language_info": {
   "codemirror_mode": {
    "name": "ipython",
    "version": 3
   },
   "file_extension": ".py",
   "mimetype": "text/x-python",
   "name": "python",
   "nbconvert_exporter": "python",
   "pygments_lexer": "ipython3",
   "version": "3.10.6"
  }
 },
 "nbformat": 4,
 "nbformat_minor": 5
}
